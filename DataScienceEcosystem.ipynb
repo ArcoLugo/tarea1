{
 "cells": [
  {
   "cell_type": "markdown",
   "id": "19066b9d-d2ee-4bde-a681-93d588422915",
   "metadata": {
    "panel-layout": {
     "height": 60.5938,
     "visible": true,
     "width": 100
    }
   },
   "source": [
    "# Data Science Tools and Ecosystem"
   ]
  },
  {
   "cell_type": "markdown",
   "id": "3fbb6140-917c-476b-9796-534a5f9dd899",
   "metadata": {
    "panel-layout": {
     "height": 51.1406,
     "visible": true,
     "width": 100
    }
   },
   "source": [
    "___In this notebook, Data Science Tools and Ecosystem are summarized.___"
   ]
  },
  {
   "cell_type": "markdown",
   "id": "f80a8c74-1add-46f2-b724-4f272a19d86f",
   "metadata": {
    "panel-layout": {
     "height": 51.1406,
     "visible": true,
     "width": 100
    }
   },
   "source": [
    "**Objectives:**\n",
    "* List popular languages for Data Science\n",
    "* List List popular languages for Data Science\n",
    "* List Science Tools\n",
    "\n",
    "\n"
   ]
  },
  {
   "cell_type": "markdown",
   "id": "c8921d9f-61e6-4439-93ec-ab5fcdd8a506",
   "metadata": {
    "panel-layout": {
     "height": 114.562,
     "visible": true,
     "width": 100
    }
   },
   "source": [
    "**Some of the popular languages that Data Scientists use are:**\n",
    "1. Python\n",
    "2. R\n",
    "3. SQL"
   ]
  },
  {
   "cell_type": "markdown",
   "id": "90005e1d-6e00-4faa-abab-80c03b9d9a48",
   "metadata": {
    "panel-layout": {
     "height": 114.562,
     "visible": true,
     "width": 100
    }
   },
   "source": [
    "**Some of the commonly used libraries used by Data Scientists include:**\n",
    "1. Scikit-Learn\n",
    "2. Numpy\n",
    "3. Pandas"
   ]
  },
  {
   "cell_type": "markdown",
   "id": "dc849a99-7ad5-439a-97cc-7fcd5efe0d37",
   "metadata": {
    "panel-layout": {
     "height": 119.703,
     "visible": true,
     "width": 100
    }
   },
   "source": [
    "| Data Science Tools |\r\n",
    "|--------------------|\r\n",
    "Jupyter              |\r",
    "RStudio             \n",
    "| VE                 | "
   ]
  },
  {
   "cell_type": "markdown",
   "id": "ccc8ecb8-b50f-498b-97c8-34564be5b201",
   "metadata": {
    "panel-layout": {
     "height": 64.1562,
     "visible": true,
     "width": 100
    }
   },
   "source": [
    "### Below are a few examples of evaluating arithmetic expressions in Python"
   ]
  },
  {
   "cell_type": "code",
   "execution_count": null,
   "id": "487dd173-64c4-40ba-ba46-ba5fa7a5a7b0",
   "metadata": {
    "panel-layout": {
     "height": 0,
     "visible": true,
     "width": 100
    }
   },
   "outputs": [],
   "source": [
    "#This a simple arithmetic expression to mutiply then add integers. .\n",
    "resultado = (3*4)+5\n",
    "print (resultado)\n"
   ]
  },
  {
   "cell_type": "code",
   "execution_count": 24,
   "id": "e905d09f-d22b-4cd5-9979-3b72807b8c9e",
   "metadata": {
    "panel-layout": {
     "height": 0,
     "visible": true,
     "width": 100
    }
   },
   "outputs": [
    {
     "name": "stdout",
     "output_type": "stream",
     "text": [
      "3.3333333333333335\n"
     ]
    }
   ],
   "source": [
    "# This will convert 200 minutes to hours by diving by 60\n",
    "horas = 200/60\n",
    "print (horas)"
   ]
  },
  {
   "cell_type": "markdown",
   "id": "3fce6b1e-e173-47fd-aa79-d192a2342853",
   "metadata": {
    "panel-layout": {
     "height": 84.390625,
     "visible": true,
     "width": 100
    }
   },
   "source": [
    "## Author\n",
    "Elias Blanco"
   ]
  },
  {
   "cell_type": "code",
   "execution_count": null,
   "id": "47b24a7b-0c1b-4c84-9dfe-01e921716154",
   "metadata": {},
   "outputs": [],
   "source": []
  },
  {
   "cell_type": "code",
   "execution_count": null,
   "id": "fe12e7ec-da86-492a-8356-1382066ec14b",
   "metadata": {},
   "outputs": [],
   "source": []
  },
  {
   "cell_type": "code",
   "execution_count": null,
   "id": "cf2766e9-759b-4df0-91c8-366f209451dd",
   "metadata": {},
   "outputs": [],
   "source": []
  }
 ],
 "metadata": {
  "kernelspec": {
   "display_name": "Python 3 (ipykernel)",
   "language": "python",
   "name": "python3"
  },
  "language_info": {
   "codemirror_mode": {
    "name": "ipython",
    "version": 3
   },
   "file_extension": ".py",
   "mimetype": "text/x-python",
   "name": "python",
   "nbconvert_exporter": "python",
   "pygments_lexer": "ipython3",
   "version": "3.12.4"
  },
  "panel-cell-order": [
   "e905d09f-d22b-4cd5-9979-3b72807b8c9e",
   "487dd173-64c4-40ba-ba46-ba5fa7a5a7b0",
   "19066b9d-d2ee-4bde-a681-93d588422915",
   "3fbb6140-917c-476b-9796-534a5f9dd899",
   "f80a8c74-1add-46f2-b724-4f272a19d86f",
   "c8921d9f-61e6-4439-93ec-ab5fcdd8a506",
   "90005e1d-6e00-4faa-abab-80c03b9d9a48",
   "dc849a99-7ad5-439a-97cc-7fcd5efe0d37",
   "ccc8ecb8-b50f-498b-97c8-34564be5b201",
   "3fce6b1e-e173-47fd-aa79-d192a2342853"
  ]
 },
 "nbformat": 4,
 "nbformat_minor": 5
}
